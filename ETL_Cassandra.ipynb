{
 "cells": [
  {
   "cell_type": "markdown",
   "metadata": {
    "editable": true
   },
   "source": [
    "# Creating Python ETL Data Pipeline",
    " And Modeling the data with Cassandra \n",
    "\n",
    "#### By Otto Kwon"
   ]
  },
  {
   "cell_type": "markdown",
   "metadata": {
    "editable": true
   },
   "source": [
    "<br> </br>\n",
    "## I. ETL Pipeline by Python\n",
    "#### Transfers data from a set of CSV files within a directory to create a streamlined CSV file\n",
    "\n",
    "\n",
    "### PROCEDURE:\n",
    "\n",
    "1. Create filepaths function \n",
    "2. Get access to the dataset's directory \n",
    "3. Create new CSV file \n",
    "4. Transfer the data with appropriate columns"
   ]
  },
  {
   "cell_type": "markdown",
   "metadata": {
    "editable": true
   },
   "source": [
    "<br>"
   ]
  },
  {
   "cell_type": "markdown",
   "metadata": {
    "editable": true
   },
   "source": [
    "#### Import Python packages "
   ]
  },
  {
   "cell_type": "code",
   "execution_count": 1,
   "metadata": {
    "editable": true
   },
   "outputs": [],
   "source": [
    "# Import Python packages \n",
    "import pandas as pd\n",
    "import cassandra\n",
    "import re\n",
    "import os\n",
    "import glob\n",
    "import numpy as np\n",
    "import json\n",
    "import csv"
   ]
  },
  {
   "cell_type": "markdown",
   "metadata": {
    "editable": true
   },
   "source": [
    "#### 1. Creating filepaths to extract original csv data"
   ]
  },
  {
   "cell_type": "code",
   "execution_count": 2,
   "metadata": {
    "editable": true
   },
   "outputs": [
    {
     "name": "stdout",
     "output_type": "stream",
     "text": [
      "/home/workspace\n"
     ]
    }
   ],
   "source": [
    "# checking directory\n",
    "print(os.getcwd())"
   ]
  },
  {
   "cell_type": "code",
   "execution_count": 3,
   "metadata": {
    "editable": true
   },
   "outputs": [
    {
     "name": "stdout",
     "output_type": "stream",
     "text": [
      "/home/workspace/event_data\n"
     ]
    }
   ],
   "source": [
    "# Getting current folder and subfolder, \"event_data\"\n",
    "filepath = os.getcwd() + '/event_data'\n",
    "# checking for filepath\n",
    "print(filepath)"
   ]
  },
  {
   "cell_type": "markdown",
   "metadata": {
    "editable": true
   },
   "source": [
    "#### 2. Get accessible to the dataset by probing the directory"
   ]
  },
  {
   "cell_type": "code",
   "execution_count": 4,
   "metadata": {
    "editable": true
   },
   "outputs": [
    {
     "name": "stdout",
     "output_type": "stream",
     "text": [
      "['/home/workspace/event_data/2018-11-30-events.csv', '/home/workspace/event_data/2018-11-23-events.csv', '/home/workspace/event_data/2018-11-22-events.csv', '/home/workspace/event_data/2018-11-29-events.csv', '/home/workspace/event_data/2018-11-11-events.csv', '/home/workspace/event_data/2018-11-14-events.csv', '/home/workspace/event_data/2018-11-20-events.csv', '/home/workspace/event_data/2018-11-15-events.csv', '/home/workspace/event_data/2018-11-05-events.csv', '/home/workspace/event_data/2018-11-28-events.csv', '/home/workspace/event_data/2018-11-25-events.csv', '/home/workspace/event_data/2018-11-16-events.csv', '/home/workspace/event_data/2018-11-18-events.csv', '/home/workspace/event_data/2018-11-24-events.csv', '/home/workspace/event_data/2018-11-04-events.csv', '/home/workspace/event_data/2018-11-19-events.csv', '/home/workspace/event_data/2018-11-26-events.csv', '/home/workspace/event_data/2018-11-12-events.csv', '/home/workspace/event_data/2018-11-27-events.csv', '/home/workspace/event_data/2018-11-06-events.csv', '/home/workspace/event_data/2018-11-09-events.csv', '/home/workspace/event_data/2018-11-03-events.csv', '/home/workspace/event_data/2018-11-21-events.csv', '/home/workspace/event_data/2018-11-07-events.csv', '/home/workspace/event_data/2018-11-01-events.csv', '/home/workspace/event_data/2018-11-13-events.csv', '/home/workspace/event_data/2018-11-17-events.csv', '/home/workspace/event_data/2018-11-08-events.csv', '/home/workspace/event_data/2018-11-10-events.csv', '/home/workspace/event_data/2018-11-02-events.csv']\n"
     ]
    }
   ],
   "source": [
    "# Create a for loop to create a list of files and collect each filepath using glob\n",
    "for root, dirs, files in os.walk(filepath):\n",
    "    # setting new_root to avoide checkpoints files\n",
    "    if '.' not in root:\n",
    "        new_root = root\n",
    "    file_path_list = glob.glob(os.path.join(new_root,'*'))\n",
    "    \n",
    "# checking for file_path_list\n",
    "print(file_path_list)"
   ]
  },
  {
   "cell_type": "markdown",
   "metadata": {
    "editable": true
   },
   "source": [
    "#### 3. Creating new csv file that will be used for ETL by Cassandra later"
   ]
  },
  {
   "cell_type": "code",
   "execution_count": 5,
   "metadata": {
    "editable": true
   },
   "outputs": [
    {
     "name": "stdout",
     "output_type": "stream",
     "text": [
      "[['Stephen Lynch', 'Logged In', 'Jayden', 'M', '0', 'Bell', '182.85669', 'free', 'Dallas-Fort Worth-Arlington, TX', 'PUT', 'NextSong', '1.54099E+12', '829', \"Jim Henson's Dead\", '200', '1.54354E+12', '91'], ['Manowar', 'Logged In', 'Jacob', 'M', '0', 'Klein', '247.562', 'paid', 'Tampa-St. Petersburg-Clearwater, FL', 'PUT', 'NextSong', '1.54056E+12', '1049', 'Shell Shock', '200', '1.54354E+12', '73'], ['Morcheeba', 'Logged In', 'Jacob', 'M', '1', 'Klein', '257.41016', 'paid', 'Tampa-St. Petersburg-Clearwater, FL', 'PUT', 'NextSong', '1.54056E+12', '1049', 'Women Lose Weight (Feat: Slick Rick)', '200', '1.54354E+12', '73'], ['Maroon 5', 'Logged In', 'Jacob', 'M', '2', 'Klein', '231.23546', 'paid', 'Tampa-St. Petersburg-Clearwater, FL', 'PUT', 'NextSong', '1.54056E+12', '1049', \"Won't Go Home Without You\", '200', '1.54354E+12', '73']]\n"
     ]
    }
   ],
   "source": [
    "# initiating an empty list of rows that will be generated by each file later\n",
    "full_data_rows_list = [] \n",
    "    \n",
    "# for every dataset in the file path list \n",
    "for f in file_path_list:\n",
    "\n",
    "# reading csv file of the datasets\n",
    "    with open(f, 'r', encoding = 'utf8', newline='') as csvfile: \n",
    "        # creating a csv reader object \n",
    "        csvreader = csv.reader(csvfile) \n",
    "        next(csvreader)\n",
    "     \n",
    "        \n",
    " # extracting each data row one by one and append it        \n",
    "        for line in csvreader:\n",
    "            full_data_rows_list.append(line)\n",
    "\n",
    "# checking first 5 rows of full_data_rows_list\n",
    "print(full_data_rows_list[:4])"
   ]
  },
  {
   "cell_type": "markdown",
   "metadata": {
    "editable": true
   },
   "source": [
    "#### Sample view of data in excel form"
   ]
  },
  {
   "cell_type": "code",
   "execution_count": 6,
   "metadata": {
    "editable": true
   },
   "outputs": [
    {
     "data": {
      "text/plain": [
       "Index(['artist', 'auth', 'firstName', 'gender', 'itemInSession', 'lastName',\n",
       "       'length', 'level', 'location', 'method', 'page', 'registration',\n",
       "       'sessionId', 'song', 'status', 'ts', 'userId'],\n",
       "      dtype='object')"
      ]
     },
     "execution_count": 6,
     "metadata": {},
     "output_type": "execute_result"
    }
   ],
   "source": [
    "df_sample = pd.read_csv(file_path_list[0])\n",
    "df_sample.columns"
   ]
  },
  {
   "cell_type": "markdown",
   "metadata": {
    "editable": true
   },
   "source": [
    "#### 4. Transfer data to new CSV file with right columns\n",
    "##### The columns :\n",
    "- artist \n",
    "- firstName of user\n",
    "- gender of user\n",
    "- item number in session\n",
    "- last name of user\n",
    "- length of the song\n",
    "- level (paid or free song)\n",
    "- location of the user\n",
    "- sessionId\n",
    "- song title\n",
    "- userId"
   ]
  },
  {
   "cell_type": "code",
   "execution_count": 7,
   "metadata": {
    "editable": true
   },
   "outputs": [],
   "source": [
    "# registering dialect that quotes just everything written on the csv.\n",
    "csv.register_dialect('myDialect', quoting=csv.QUOTE_ALL, skipinitialspace=True)\n",
    "\n",
    "# creating a smaller event data csv file called event_datafile_full csv that will be used to insert data into the \\\n",
    "# Apache Cassandra tables\n",
    "with open('loaded_data.csv', 'w', encoding = 'utf8', newline='') as f:\n",
    "    writer = csv.writer(f, dialect='myDialect')\n",
    "    writer.writerow(['artist','firstName','gender','itemInSession','lastName','length', \\\n",
    "                     'level','location','sessionId','song','userId'])\n",
    "    for row in full_data_rows_list:\n",
    "        if (row[0] == ''):\n",
    "            continue\n",
    "        writer.writerow((row[0], row[2], row[3], row[4], row[5],\n",
    "                         row[6], row[7], row[8], row[12], row[13], row[16]))\n",
    "\n",
    "        \n",
    "# Source For all codes above : \n",
    "#    https://docs.python.org/3/library/csv.html\n",
    "#    https://pymotw.com/2/csv/"
   ]
  },
  {
   "cell_type": "code",
   "execution_count": 8,
   "metadata": {
    "editable": true
   },
   "outputs": [
    {
     "name": "stdout",
     "output_type": "stream",
     "text": [
      "6821\n"
     ]
    }
   ],
   "source": [
    "# check the number of rows in your csv file\n",
    "with open('loaded_data.csv', 'r', encoding = 'utf8') as f:\n",
    "    print(sum(1 for line in f))"
   ]
  },
  {
   "cell_type": "markdown",
   "metadata": {
    "editable": true
   },
   "source": [
    "  "
   ]
  },
  {
   "cell_type": "markdown",
   "metadata": {
    "editable": true
   },
   "source": [
    "  "
   ]
  },
  {
   "cell_type": "markdown",
   "metadata": {
    "editable": true
   },
   "source": [
    "  "
   ]
  },
  {
   "cell_type": "markdown",
   "metadata": {
    "editable": true
   },
   "source": [
    "# Part II. Performing Cassandra or CQL on the data\n",
    "\n",
    "#### I will perform Cassandra on loaded_data.csv with 3 CQL questions.\n",
    "#### I created loaded_data.csv on the directory and it has colums :\n",
    "- artist \n",
    "- firstName of user\n",
    "- gender of user\n",
    "- item number in session\n",
    "- last name of user\n",
    "- length of the song\n",
    "- level (paid or free song)\n",
    "- location of the user\n",
    "- sessionId\n",
    "- song title\n",
    "- userId\n",
    "\n",
    "The image below is a screenshot of <font color=red>**loaded_data.csv**</font><br>\n",
    "\n",
    "<img src=\"images/image_event_datafile_new.jpg\">"
   ]
  },
  {
   "cell_type": "markdown",
   "metadata": {
    "editable": true
   },
   "source": [
    "### Creating Cluster and Keyspace"
   ]
  },
  {
   "cell_type": "markdown",
   "metadata": {
    "editable": true
   },
   "source": [
    "#### Creating a Cluster"
   ]
  },
  {
   "cell_type": "code",
   "execution_count": 9,
   "metadata": {
    "editable": true
   },
   "outputs": [],
   "source": [
    "# Creating cluster\n",
    "from cassandra.cluster import Cluster\n",
    "cluster = Cluster()\n",
    "\n",
    "# Creating session for query later\n",
    "session = cluster.connect()"
   ]
  },
  {
   "cell_type": "markdown",
   "metadata": {
    "editable": true
   },
   "source": [
    "#### Create Keyspace"
   ]
  },
  {
   "cell_type": "code",
   "execution_count": 10,
   "metadata": {
    "editable": true
   },
   "outputs": [],
   "source": [
    "try :\n",
    "    session.execute(\"\"\"CREATE KEYSPACE IF NOT EXISTS otto_kwon\n",
    "                    WITH REPLICATION =\n",
    "                    {'class' : 'SimpleStrategy', 'replication_factor' : 1}\n",
    "                    \"\"\")\n",
    "except Exception as e:\n",
    "    print(e)"
   ]
  },
  {
   "cell_type": "markdown",
   "metadata": {
    "editable": true
   },
   "source": [
    "#### Set Keyspace"
   ]
  },
  {
   "cell_type": "code",
   "execution_count": 11,
   "metadata": {
    "editable": true
   },
   "outputs": [],
   "source": [
    "try:\n",
    "    session.set_keyspace('otto_kwon')\n",
    "except Exception as e:\n",
    "    print(e)"
   ]
  },
  {
   "cell_type": "markdown",
   "metadata": {
    "editable": true
   },
   "source": [
    "## <font color='red'>Creating 3 CQL queries</font>\n",
    "\n",
    "<br>\n",
    "\n",
    "##### 1. Show artist, song, and length for session_id = 338, and item_in_session = 4\n",
    "\n",
    "\n",
    "##### 2. Show name of artist, song (sorted by itemInSession) and user full name for user_id = 10, session_id = 182\n",
    "    \n",
    "\n",
    "##### 3. Show all user full name who listened to the song 'All Hands Against His Own'\n",
    "\n",
    "<br>\n",
    "<br>\n",
    "<br>\n"
   ]
  },
  {
   "cell_type": "markdown",
   "metadata": {
    "editable": true
   },
   "source": [
    "### <font color='blue'>1st question : </font> \n",
    "##### Show artist, song and length for session_Id = 338, and item_in_session = 4"
   ]
  },
  {
   "cell_type": "code",
   "execution_count": 12,
   "metadata": {
    "editable": true
   },
   "outputs": [
    {
     "data": {
      "text/plain": [
       "<cassandra.cluster.ResultSet at 0x7f9204609128>"
      ]
     },
     "execution_count": 12,
     "metadata": {},
     "output_type": "execute_result"
    }
   ],
   "source": [
    "# create table song_session_item with appropriate types for each columns\n",
    "session.execute(\"\"\"\n",
    "                CREATE TABLE IF NOT EXISTS song_session_item\n",
    "                (session_id int, \n",
    "                item_in_session int, \n",
    "                artist text, \n",
    "                song text, \n",
    "                length float, \n",
    "                PRIMARY KEY(session_id, item_in_session))\n",
    "                \"\"\")\n",
    "\n",
    "# I set partition keys to be session_id and item_in_session\n",
    "# To avoid WHERER ordering error in NoSQL"
   ]
  },
  {
   "cell_type": "code",
   "execution_count": 13,
   "metadata": {
    "editable": true
   },
   "outputs": [],
   "source": [
    "# getting the loaded_data.csv\n",
    "file = 'loaded_data.csv'\n",
    "\n",
    "# reading the loaded_data.csv\n",
    "with open(file, encoding = 'utf8') as f:\n",
    "    csvreader = csv.reader(f)\n",
    "    next(csvreader) # to skip header columns\n",
    "    for line in csvreader:\n",
    "        # assigning CQL query : INSERT INTO ....\n",
    "        query = \"INSERT INTO song_session_item (session_id, item_in_session, artist, song, length)\"\n",
    "        query = query + \"VALUES (%s,%s,%s,%s,%s)\"\n",
    "        \n",
    "        # executing the query\n",
    "        session.execute(query, (int(line[8]), int(line[3]), line[0], line[9], float(line[5])))"
   ]
  },
  {
   "cell_type": "markdown",
   "metadata": {
    "editable": true
   },
   "source": [
    "#### Visualizing query with artist, song, and length for session_id = 338, and item_in_session = 4"
   ]
  },
  {
   "cell_type": "code",
   "execution_count": 14,
   "metadata": {
    "editable": true,
    "scrolled": true
   },
   "outputs": [],
   "source": [
    "# creating CQL query for 1st question\n",
    "lines = session.execute(\"\"\"\n",
    "                        SELECT artist, \n",
    "                        song, \n",
    "                        length \n",
    "                        FROM song_session_item\n",
    "                        WHERE session_id = 338 \n",
    "                        AND item_in_session = 4\n",
    "                        \"\"\")"
   ]
  },
  {
   "cell_type": "code",
   "execution_count": 15,
   "metadata": {
    "editable": true
   },
   "outputs": [
    {
     "name": "stdout",
     "output_type": "stream",
     "text": [
      "Faithless Music Matters (Mark Knight Dub) 495.30731201171875\n"
     ]
    }
   ],
   "source": [
    "# Visualizing by printing the SELECT execution\n",
    "for line in lines:\n",
    "    print(line.artist, line.song, line.length)"
   ]
  },
  {
   "cell_type": "markdown",
   "metadata": {
    "editable": true
   },
   "source": [
    "### <font color='blue'>Second question :</font> \n",
    "##### Show name of artist, song (sorted by itemInSession) and user full name for user_id = 10, session_id = 182"
   ]
  },
  {
   "cell_type": "code",
   "execution_count": 16,
   "metadata": {
    "editable": true
   },
   "outputs": [
    {
     "data": {
      "text/plain": [
       "<cassandra.cluster.ResultSet at 0x7f9204605400>"
      ]
     },
     "execution_count": 16,
     "metadata": {},
     "output_type": "execute_result"
    }
   ],
   "source": [
    "# create table \"song_play_list_session\" with appropriate types for each columns\n",
    "session.execute(\"\"\"\n",
    "                CREATE TABLE IF NOT EXISTS song_play_list_session\n",
    "                (user_id int, \n",
    "                session_id int, \n",
    "                item_in_session int, \n",
    "                artist text, \n",
    "                song text, \n",
    "                user text, \n",
    "                PRIMARY KEY((user_id, session_id), item_in_session))\n",
    "                WITH CLUSTERING ORDER BY (item_in_session DESC);\n",
    "                \"\"\")\n",
    "# The partition keys are user_id and session_id with same reason as QUESTION 1\n",
    "# I used WITH CLUSTERING ORDER BY ... to sort song with item_in_session\n",
    "\n",
    "#I got format of CLUSTERING ORDER BY from :\n",
    "#https://www.datastax.com/blog/2015/03/we-shall-have-order"
   ]
  },
  {
   "cell_type": "code",
   "execution_count": 17,
   "metadata": {
    "editable": true
   },
   "outputs": [],
   "source": [
    "# getting the loaded_data.csv\n",
    "file = 'loaded_data.csv'\n",
    "\n",
    "# reading the loaded_data.csv\n",
    "with open(file, encoding = 'utf8') as f:\n",
    "    csvreader = csv.reader(f)\n",
    "    next(csvreader) # skip header\n",
    "    for line in csvreader:\n",
    "        # assigning CQL query : INSERT INTO ....\n",
    "        query = \"INSERT INTO song_play_list_session (user_id, session_id, item_in_session, artist, song, user)\"\n",
    "        query = query + \"VALUES (%s,%s,%s,%s,%s,%s)\"\n",
    "        \n",
    "        # executing the query\n",
    "        session.execute(query, (int(line[10]), int(line[8]), int(line[3]), line[0], line[9], line[1]+' '+line[4]))"
   ]
  },
  {
   "cell_type": "markdown",
   "metadata": {
    "editable": true
   },
   "source": [
    "#### Visualizing query with artist, song (sorted by item_in_session, and user full name \n",
    "#### for user_id = 10 session_id = 182, and item_in_session = 4"
   ]
  },
  {
   "cell_type": "code",
   "execution_count": 18,
   "metadata": {
    "editable": true
   },
   "outputs": [
    {
     "name": "stdout",
     "output_type": "stream",
     "text": [
      "Lonnie Gordon Catch You Baby (Steve Pitron & Max Sanna Radio Edit) Sylvie Cruz\n",
      "Sebastien Tellier Kilometer Sylvie Cruz\n",
      "Three Drives Greece 2000 Sylvie Cruz\n",
      "Down To The Bone Keep On Keepin' On Sylvie Cruz\n"
     ]
    }
   ],
   "source": [
    "# creating CQL query for 1st question\n",
    "lines = session.execute(\"\"\"\n",
    "                        SELECT artist, song, user \n",
    "                        FROM song_play_list_session \n",
    "                        WHERE user_id = 10 \n",
    "                        AND session_id = 182\n",
    "                        \"\"\")\n",
    "\n",
    "# visualizing the query\n",
    "for line in lines:\n",
    "    print(line.artist, line.song, line.user)"
   ]
  },
  {
   "cell_type": "markdown",
   "metadata": {
    "editable": true
   },
   "source": [
    "### <font color = 'blue'> 3rd Question : </font>\n",
    "##### Show all user full name who listened to the song 'All Hands Against His Own'"
   ]
  },
  {
   "cell_type": "code",
   "execution_count": 19,
   "metadata": {
    "editable": true
   },
   "outputs": [],
   "source": [
    "# create table song_one_title with appropriate types for each columns\n",
    "session.execute(\"\"\"\n",
    "                CREATE TABLE IF NOT EXISTS song_one_title\n",
    "                (song text, \n",
    "                user_id int, \n",
    "                name text, \n",
    "                PRIMARY KEY(song, user_id))\n",
    "                \"\"\")\n",
    "# I included user_id into partition so that the names will be in good order.\n",
    "\n",
    "# getting the loaded_data.csv\n",
    "file = 'loaded_data.csv'\n",
    "\n",
    "# reading the loaded_data.csv\n",
    "with open(file, encoding = 'utf8') as f:\n",
    "    csvreader = csv.reader(f)\n",
    "    next(csvreader) # skip header\n",
    "    for line in csvreader:\n",
    "        # assigning CQL query : INSERT INTO ....\n",
    "        query = \"INSERT INTO song_one_title (song, user_id, name)\"\n",
    "        query = query + \"VALUES (%s,%s,%s)\"\n",
    "        \n",
    "        # executing the query\n",
    "        session.execute(query,(line[9],int(line[10]),line[1]+' '+line[4]))"
   ]
  },
  {
   "cell_type": "markdown",
   "metadata": {
    "editable": true
   },
   "source": [
    "#### Visualizing query with user full name for song = 'All Hands Against His Own'."
   ]
  },
  {
   "cell_type": "code",
   "execution_count": 20,
   "metadata": {
    "editable": true
   },
   "outputs": [
    {
     "name": "stdout",
     "output_type": "stream",
     "text": [
      "Jacqueline Lynch\n",
      "Tegan Levine\n",
      "Sara Johnson\n"
     ]
    }
   ],
   "source": [
    "# query\n",
    "lines = session.execute(\"\"\"\n",
    "                        SELECT name FROM song_one_title \n",
    "                        WHERE song = 'All Hands Against His Own'\n",
    "                        \"\"\")\n",
    "\n",
    "# visualizing\n",
    "for line in lines:\n",
    "    print(line.name)"
   ]
  },
  {
   "cell_type": "markdown",
   "metadata": {
    "editable": true
   },
   "source": [
    "### Dropping the table."
   ]
  },
  {
   "cell_type": "code",
   "execution_count": 21,
   "metadata": {
    "editable": true
   },
   "outputs": [
    {
     "data": {
      "text/plain": [
       "<cassandra.cluster.ResultSet at 0x7f92045f6588>"
      ]
     },
     "execution_count": 21,
     "metadata": {},
     "output_type": "execute_result"
    }
   ],
   "source": [
    "# Dropping all tables\n",
    "session.execute(\"DROP TABLE song_session_item\")\n",
    "session.execute(\"DROP TABLE song_play_list_session\")\n",
    "session.execute(\"DROP TABLE song_one_title\")"
   ]
  },
  {
   "cell_type": "markdown",
   "metadata": {
    "editable": true
   },
   "source": [
    "### Checking for the Drop."
   ]
  },
  {
   "cell_type": "code",
   "execution_count": 22,
   "metadata": {
    "editable": true
   },
   "outputs": [
    {
     "name": "stdout",
     "output_type": "stream",
     "text": [
      "First Table Drop Confirmed\n"
     ]
    }
   ],
   "source": [
    "# Checking for the Drop. If error occurs and says, \"unconfigured table...\", then it is dropped.\n",
    "try :\n",
    "    session.execute(\"\"\"\n",
    "                    SELECT * \n",
    "                    FROM song_session_item\n",
    "                    LIMIT 1\n",
    "                    \"\"\")\n",
    "except :\n",
    "    print(\"First Table Drop Confirmed\")"
   ]
  },
  {
   "cell_type": "code",
   "execution_count": 23,
   "metadata": {
    "editable": true
   },
   "outputs": [
    {
     "name": "stdout",
     "output_type": "stream",
     "text": [
      "Second Table Drop Confirmed\n"
     ]
    }
   ],
   "source": [
    "# Checking for the Drop. If error occurs, then it is dropped.\n",
    "try:\n",
    "    session.execute(\"\"\"\n",
    "                    SELECT * \n",
    "                    FROM song_play_list_session\n",
    "                    LIMIT 1\n",
    "                    \"\"\")\n",
    "except :\n",
    "    print('Second Table Drop Confirmed')"
   ]
  },
  {
   "cell_type": "code",
   "execution_count": 24,
   "metadata": {
    "editable": true
   },
   "outputs": [
    {
     "name": "stdout",
     "output_type": "stream",
     "text": [
      "Third Table Drop Confirmed\n"
     ]
    }
   ],
   "source": [
    "# Checking for the Drop. If error occurs, then it is dropped.\n",
    "try:\n",
    "    session.execute(\"\"\"\n",
    "                    SELECT * \n",
    "                    FROM song_one_title\n",
    "                    LIMIT 1\n",
    "                    \"\"\")\n",
    "except :\n",
    "    print('Third Table Drop Confirmed')"
   ]
  },
  {
   "cell_type": "markdown",
   "metadata": {
    "editable": true
   },
   "source": [
    "### Close the session and cluster connection¶"
   ]
  },
  {
   "cell_type": "code",
   "execution_count": 25,
   "metadata": {
    "editable": true
   },
   "outputs": [],
   "source": [
    "session.shutdown()\n",
    "cluster.shutdown()"
   ]
  }
 ],
 "metadata": {
  "kernelspec": {
   "display_name": "Python 3",
   "language": "python",
   "name": "python3"
  },
  "language_info": {
   "codemirror_mode": {
    "name": "ipython",
    "version": 3
   },
   "file_extension": ".py",
   "mimetype": "text/x-python",
   "name": "python",
   "nbconvert_exporter": "python",
   "pygments_lexer": "ipython3",
   "version": "3.6.3"
  }
 },
 "nbformat": 4,
 "nbformat_minor": 4
}
